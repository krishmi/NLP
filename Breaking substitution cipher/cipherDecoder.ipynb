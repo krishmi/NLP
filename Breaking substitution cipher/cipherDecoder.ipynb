{
 "cells": [
  {
   "cell_type": "code",
   "execution_count": 1,
   "metadata": {},
   "outputs": [],
   "source": [
    "import numpy as np\n",
    "import matplotlib.pyplot as plt\n",
    "\n",
    "import string\n",
    "import random\n",
    "import re\n",
    "import requests\n",
    "import os\n",
    "import textwrap"
   ]
  },
  {
   "cell_type": "code",
   "execution_count": 2,
   "metadata": {},
   "outputs": [],
   "source": [
    "letters1 = list(string.ascii_lowercase)\n",
    "letters2 = list(string.ascii_lowercase)\n",
    "\n",
    "true_mapping = {}\n",
    "\n",
    "random.shuffle(letters2)\n",
    "\n",
    "for k, v in zip(letters1, letters2):\n",
    "    true_mapping[k] = v"
   ]
  },
  {
   "cell_type": "code",
   "execution_count": 3,
   "metadata": {},
   "outputs": [],
   "source": [
    "M = np.ones((26, 26))\n",
    "\n",
    "pi = np.zeros(26)\n",
    "\n",
    "def update_transition(ch1, ch2):\n",
    "    i = ord(ch1) - 97\n",
    "    j = ord(ch2) - 97\n",
    "    M[i, j] += 1\n",
    "    \n",
    "def update_pi(ch):\n",
    "    i = ord(ch) - 97\n",
    "    pi[i] += 1\n",
    "    \n",
    "def get_word_prob(word):\n",
    "    i = ord(word[0]) - 97\n",
    "    logp = np.log(pi[i])\n",
    "    for ch in word[1:]:\n",
    "        j = ord(ch) - 97\n",
    "        logp += np.log(M[i, j])\n",
    "        i = j\n",
    "        \n",
    "    return logp\n",
    "\n",
    "def get_sequence_prob(words):\n",
    "    if type(words) == str:\n",
    "        words = words.split()\n",
    "        \n",
    "    logp = 0\n",
    "    for word in words:\n",
    "        logp += get_word_prob(word)\n",
    "        \n",
    "    return logp"
   ]
  },
  {
   "cell_type": "code",
   "execution_count": 4,
   "metadata": {},
   "outputs": [],
   "source": [
    "if not os.path.exists('data.txt'):\n",
    "    print(\"Downloading data.....\")\n",
    "    r = requests.get('https://lazyprogrammer.me/course_files/moby_dick.txt') \n",
    "    with open('data.txt', 'w') as f:\n",
    "        f.write(r.content.decode())"
   ]
  },
  {
   "cell_type": "code",
   "execution_count": 5,
   "metadata": {},
   "outputs": [],
   "source": [
    "regex = re.compile('[^a-zA-Z]')\n",
    "for line in open('data.txt'):\n",
    "    line = line.rstrip()\n",
    "    if line:\n",
    "        line = regex.sub(' ', line)\n",
    "        \n",
    "    tokens = line.lower().split()\n",
    "    for token in tokens:\n",
    "        ch0 = token[0]\n",
    "        update_pi(ch0)\n",
    "        \n",
    "        for ch1 in token[1:]:\n",
    "            #update_pi(ch1)\n",
    "            update_transition(ch0, ch1)\n",
    "            ch0 = ch1\n",
    "            \n",
    "pi /= pi.sum()\n",
    "M /= M.sum(axis=1, keepdims=True)"
   ]
  },
  {
   "cell_type": "code",
   "execution_count": 6,
   "metadata": {},
   "outputs": [],
   "source": [
    "original_message = '''I then lounged down the street and found,\n",
    "as I expected, that there was a mews in a lane which runs down\n",
    "by one wall of the garden. I lent the ostlers a hand in rubbing\n",
    "down their horses, and received in exchange twopence, a glass of\n",
    "half-and-half, two fills of shag tobacco, and as much information\n",
    "as I could desire about Miss Adler, to say nothing of half a dozen\n",
    "other people in the neighbourhood in whom I was not in the least\n",
    "interested, but whose biographies I was compelled to listen to.\n",
    "'''"
   ]
  },
  {
   "cell_type": "code",
   "execution_count": 7,
   "metadata": {},
   "outputs": [],
   "source": [
    "def encode_message(msg):\n",
    "    msg = msg.lower()\n",
    "    msg = regex.sub(' ', msg)\n",
    "    coded_msg = []\n",
    "    for ch in msg:\n",
    "        coded_ch = ch\n",
    "        if ch in true_mapping:\n",
    "            coded_ch = true_mapping[ch]\n",
    "            \n",
    "        coded_msg.append(coded_ch)\n",
    "        \n",
    "    return ''.join(coded_msg)\n",
    "\n",
    "encoded_message = encode_message(original_message)"
   ]
  },
  {
   "cell_type": "code",
   "execution_count": 8,
   "metadata": {},
   "outputs": [],
   "source": [
    "def decode_msg(msg, word_map):\n",
    "    decoded_msg = []\n",
    "    for ch in msg:\n",
    "        decode_ch = ch\n",
    "        if ch in word_map:\n",
    "            decode_ch = word_map[ch]\n",
    "            \n",
    "        decoded_msg.append(decode_ch)\n",
    "        \n",
    "    return ''.join(decoded_msg)"
   ]
  },
  {
   "cell_type": "code",
   "execution_count": 9,
   "metadata": {},
   "outputs": [],
   "source": [
    "dna_pool = []\n",
    "for _ in range(20):\n",
    "    dna = list(string.ascii_lowercase)\n",
    "    random.shuffle(dna)\n",
    "    dna_pool.append(dna)"
   ]
  },
  {
   "cell_type": "code",
   "execution_count": 10,
   "metadata": {},
   "outputs": [],
   "source": [
    "def evolve_offspring(dna_pool, n_childen):\n",
    "    offspring = []\n",
    "    for dna in dna_pool:\n",
    "        for _ in range(n_childen):\n",
    "            copy = dna.copy()\n",
    "            j = np.random.randint(len(copy))\n",
    "            k = np.random.randint(len(copy))\n",
    "            tmp = copy[j]\n",
    "            copy[j] = copy[k]\n",
    "            copy[k] = tmp\n",
    "            offspring.append(copy)\n",
    "            \n",
    "    return offspring + dna_pool"
   ]
  },
  {
   "cell_type": "code",
   "execution_count": 11,
   "metadata": {
    "collapsed": true
   },
   "outputs": [
    {
     "name": "stdout",
     "output_type": "stream",
     "text": [
      "iter : 0  score: -2022.5102839045728  best so far: -1806.8323115567655\n",
      "iter : 200  score: -1018.7092267883351  best so far: -934.3762341787831\n",
      "iter : 400  score: -1027.0332417142704  best so far: -929.5902922650557\n",
      "iter : 600  score: -1024.6259564548902  best so far: -929.5902922650557\n",
      "iter : 800  score: -1030.3436908508115  best so far: -929.5902922650557\n"
     ]
    }
   ],
   "source": [
    "num_iters = 1000\n",
    "scores = np.zeros(num_iters)\n",
    "best_dna = None\n",
    "best_map = None\n",
    "best_score = float('-inf')\n",
    "for i in range(num_iters):\n",
    "    if i > 0:\n",
    "        dna_pool = evolve_offspring(dna_pool, 3)\n",
    "        \n",
    "    dna2score = {}\n",
    "    for dna in dna_pool:\n",
    "        current_map = {}\n",
    "        for k, v in zip(letters1, dna):\n",
    "            current_map[k] = v\n",
    "            \n",
    "        decoded_msg = decode_msg(encoded_message, current_map)\n",
    "        score = get_sequence_prob(decoded_msg)\n",
    "        dna2score[''.join(dna)] = score\n",
    "        if score > best_score:\n",
    "            best_score = score\n",
    "            best_dna = dna\n",
    "            best_map = current_map\n",
    "            \n",
    "    scores[i] = np.mean(list(dna2score.values()))\n",
    "    sorted_dna = sorted(dna2score.items(), key=lambda x: x[1], reverse=True)\n",
    "    dna_pool = [list(k) for k, v in sorted_dna[:5]]\n",
    "    \n",
    "    if i%200 == 0:\n",
    "        print(\"iter :\", i, \" score:\", scores[i], \" best so far:\", best_score)"
   ]
  },
  {
   "cell_type": "code",
   "execution_count": 12,
   "metadata": {
    "collapsed": true
   },
   "outputs": [
    {
     "name": "stdout",
     "output_type": "stream",
     "text": [
      "LL of decoded message:  -929.5902922650557\n",
      "LL of true message:  -933.0312453751817\n",
      "true: j, pred: z\n",
      "true: k, pred: j\n",
      "true: z, pred: k\n"
     ]
    }
   ],
   "source": [
    "decoded_msg = decode_msg(encoded_message, best_map)\n",
    "\n",
    "print('LL of decoded message: ', get_sequence_prob(decoded_msg))\n",
    "print('LL of true message: ', get_sequence_prob(regex.sub(' ', original_message.lower())))\n",
    "\n",
    "for true, v in true_mapping.items():\n",
    "    pred = best_map[v]\n",
    "    if true != pred:\n",
    "        print(\"true: %s, pred: %s\" %(true, pred))"
   ]
  },
  {
   "cell_type": "code",
   "execution_count": 13,
   "metadata": {},
   "outputs": [
    {
     "name": "stdout",
     "output_type": "stream",
     "text": [
      "I then lounged down the street and found,\n",
      "as I expected, that there was a mews in a lane which runs down\n",
      "by one wall of the garden. I lent the ostlers a hand in rubbing\n",
      "down their horses, and received in exchange twopence, a glass of\n",
      "half-and-half, two fills of shag tobacco, and as much information\n",
      "as I could desire about Miss Adler, to say nothing of half a dozen\n",
      "other people in the neighbourhood in whom I was not in the least\n",
      "interested, but whose biographies I was compelled to listen to.\n",
      "\n",
      "i then lounged down the street and found  as i expected  that there was a mews in a lane which runs down by one wall of the garden  i lent the ostlers a hand in rubbing down their horses  and received in exchange twopence  a glass of half and half  two fills of shag tobacco  and as much information as i could desire about miss adler  to say nothing of half a doken other people in the neighbourhood in whom i was not in the least interested  but whose biographies i was compelled to listen to  \n"
     ]
    }
   ],
   "source": [
    "print(original_message)\n",
    "print(decoded_msg)"
   ]
  },
  {
   "cell_type": "code",
   "execution_count": 14,
   "metadata": {},
   "outputs": [
    {
     "data": {
      "image/png": "[encoded data removed]",
      "text/plain": [
       "<Figure size 432x288 with 1 Axes>"
      ]
     },
     "metadata": {
      "needs_background": "light"
     },
     "output_type": "display_data"
    }
   ],
   "source": [
    "plt.plot(scores)\n",
    "plt.show()"
   ]
  },
  {
   "cell_type": "code",
   "execution_count": null,
   "metadata": {},
   "outputs": [],
   "source": []
  }
 ],
 "metadata": {
  "kernelspec": {
   "display_name": "Python 3",
   "language": "python",
   "name": "python3"
  },
  "language_info": {
   "codemirror_mode": {
    "name": "ipython",
    "version": 3
   },
   "file_extension": ".py",
   "mimetype": "text/x-python",
   "name": "python",
   "nbconvert_exporter": "python",
   "pygments_lexer": "ipython3",
   "version": "3.7.4"
  }
 },
 "nbformat": 4,
 "nbformat_minor": 2
}
